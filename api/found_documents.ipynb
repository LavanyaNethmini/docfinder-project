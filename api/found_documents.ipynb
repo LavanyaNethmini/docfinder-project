{
 "cells": [
  {
   "cell_type": "code",
   "execution_count": 1,
   "id": "91b0816b-6b58-4096-88e6-604d2cf97ab5",
   "metadata": {},
   "outputs": [
    {
     "name": "stdout",
     "output_type": "stream",
     "text": [
      "Connected to lost_found_db successfully!\n"
     ]
    }
   ],
   "source": [
    "from flask import Flask, request, jsonify\n",
    "from flask_cors import CORS\n",
    "import os\n",
    "from werkzeug.utils import secure_filename\n",
    "import mysql.connector\n",
    "\n",
    "app = Flask(__name__)\n",
    "CORS(app)\n",
    "\n",
    "# Configuration\n",
    "UPLOAD_FOLDER = r'C:\\wamp64\\www\\lost-found\\uploads'\n",
    "ALLOWED_EXTENSIONS = {'png', 'jpg', 'jpeg', 'gif', 'pdf'}\n",
    "MAX_FILE_SIZE = 5 * 1024 * 1024  # 5MB\n",
    "\n",
    "os.makedirs(UPLOAD_FOLDER, exist_ok=True)\n",
    "app.config['UPLOAD_FOLDER'] = UPLOAD_FOLDER\n",
    "\n",
    "def allowed_file(filename):\n",
    "    return '.' in filename and \\\n",
    "           filename.rsplit('.', 1)[1].lower() in ALLOWED_EXTENSIONS\n",
    "\n",
    "os.makedirs(UPLOAD_FOLDER, exist_ok=True)\n",
    "app.config['UPLOAD_FOLDER'] = UPLOAD_FOLDER\n",
    "\n",
    "# Database connection\n",
    "def get_connection():\n",
    "    return mysql.connector.connect(\n",
    "        host=\"localhost\",\n",
    "        port=3308,\n",
    "        user=\"root\",\n",
    "        password=\"\",\n",
    "        database=\"lost_found_db\"\n",
    "    )\n",
    "\n",
    "# Test connection\n",
    "try:\n",
    "    conn = get_connection()\n",
    "    print(\"Connected to lost_found_db successfully!\")\n",
    "    conn.close()\n",
    "except Exception as e:\n",
    "    print(\"Connection failed:\", e)\n"
   ]
  },
  {
   "cell_type": "code",
   "execution_count": 2,
   "id": "e65e44cb-3395-4993-9f07-cfed2ecb0933",
   "metadata": {},
   "outputs": [],
   "source": [
    "@app.route('/api/report_found', methods=['POST'])\n",
    "def report_found():\n",
    "    conn = None\n",
    "    cursor = None\n",
    "\n",
    "    try:\n",
    "        # Validate required fields\n",
    "        required_fields = ['doc_name', 'doc_type', 'location']\n",
    "        for field in required_fields:\n",
    "            if field not in request.form or not request.form[field].strip():\n",
    "                return jsonify({\"success\": False, \"message\": f\"Missing required field: {field}\"}), 400\n",
    "\n",
    "        # Get form data\n",
    "        doc_name = request.form['doc_name'].strip()\n",
    "        doc_type = request.form['doc_type'].strip()\n",
    "        location = request.form['location'].strip()\n",
    "        contact_name = request.form.get('contact_name', '').strip()\n",
    "        contact_email = request.form.get('contact_email', '').strip()\n",
    "        contact_phone = request.form.get('contact_phone', '').strip()\n",
    "        preferred_method = request.form.get('preferred_method', 'email').strip()\n",
    "        anonymous = request.form.get('anonymous', 'false').lower() == 'true'\n",
    "\n",
    "        photo = request.files.get('photo')\n",
    "        photo_uploaded = False\n",
    "        photo_filename = None\n",
    "\n",
    "        if photo and photo.filename:\n",
    "            filename = secure_filename(photo.filename)\n",
    "            image_path = os.path.join(app.config['UPLOAD_FOLDER'], filename)\n",
    "            photo.save(os.path.join(app.config['UPLOAD_FOLDER'], filename))\n",
    "            photo_filename = filename  # ✅ Save filename for DB\n",
    "            photo_uploaded = True\n",
    "\n",
    "        # Database operation\n",
    "        conn = get_connection()\n",
    "        cursor = conn.cursor()\n",
    "\n",
    "        cursor.execute(\"\"\"\n",
    "            INSERT INTO found_documents \n",
    "            (doc_name, doc_type, location, photo, contact_name, contact_email, contact_phone, preferred_method, anonymous)\n",
    "            VALUES (%s, %s, %s, %s, %s, %s, %s, %s, %s)\n",
    "        \"\"\", (\n",
    "            doc_name, doc_type, location, photo_filename,\n",
    "            contact_name if contact_name else None,\n",
    "            contact_email if contact_email else None,\n",
    "            contact_phone if contact_phone else None,\n",
    "            preferred_method, anonymous\n",
    "        ))\n",
    "\n",
    "        conn.commit()\n",
    "\n",
    "        return jsonify({\n",
    "            \"success\": True,\n",
    "            \"message\": \"Report saved successfully\",\n",
    "            \"photo_uploaded\": photo_filename is not None\n",
    "        })\n",
    "\n",
    "    except mysql.connector.Error as db_err:\n",
    "        print(\"Database error:\", db_err)\n",
    "        return jsonify({\"success\": False, \"message\": \"Database error occurred\"}), 500\n",
    "\n",
    "    except Exception as e:\n",
    "        print(\"Error:\", e)\n",
    "        return jsonify({\"success\": False, \"message\": str(e)}), 500\n",
    "\n",
    "    finally:\n",
    "        if cursor:\n",
    "            cursor.close()\n",
    "        if conn and conn.is_connected():\n",
    "            conn.close()\n",
    "\n"
   ]
  },
  {
   "cell_type": "code",
   "execution_count": null,
   "id": "014142ed-5bff-4542-9294-d12e74ecf918",
   "metadata": {},
   "outputs": [
    {
     "name": "stdout",
     "output_type": "stream",
     "text": [
      " * Serving Flask app '__main__'\n",
      " * Debug mode: off\n"
     ]
    },
    {
     "name": "stderr",
     "output_type": "stream",
     "text": [
      "WARNING: This is a development server. Do not use it in a production deployment. Use a production WSGI server instead.\n",
      " * Running on http://127.0.0.1:5001\n",
      "Press CTRL+C to quit\n",
      "127.0.0.1 - - [02/Aug/2025 19:25:23] \"POST /api/report_found HTTP/1.1\" 200 -\n"
     ]
    }
   ],
   "source": [
    "if __name__ == '__main__':\n",
    "    app.run(port=5001)"
   ]
  }
 ],
 "metadata": {
  "kernelspec": {
   "display_name": "Python [conda env:base] *",
   "language": "python",
   "name": "conda-base-py"
  },
  "language_info": {
   "codemirror_mode": {
    "name": "ipython",
    "version": 3
   },
   "file_extension": ".py",
   "mimetype": "text/x-python",
   "name": "python",
   "nbconvert_exporter": "python",
   "pygments_lexer": "ipython3",
   "version": "3.12.7"
  }
 },
 "nbformat": 4,
 "nbformat_minor": 5
}
