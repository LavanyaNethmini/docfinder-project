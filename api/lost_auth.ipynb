{
 "cells": [
  {
   "cell_type": "code",
   "execution_count": 1,
   "id": "55caf116-916a-4d9f-99c7-a066029fad15",
   "metadata": {},
   "outputs": [
    {
     "name": "stdout",
     "output_type": "stream",
     "text": [
      "Requirement already satisfied: flask in d:\\setup\\new folder\\lib\\site-packages (3.0.3)\n",
      "Requirement already satisfied: Werkzeug>=3.0.0 in d:\\setup\\new folder\\lib\\site-packages (from flask) (3.0.3)\n",
      "Requirement already satisfied: Jinja2>=3.1.2 in d:\\setup\\new folder\\lib\\site-packages (from flask) (3.1.4)\n",
      "Requirement already satisfied: itsdangerous>=2.1.2 in d:\\setup\\new folder\\lib\\site-packages (from flask) (2.2.0)\n",
      "Requirement already satisfied: click>=8.1.3 in d:\\setup\\new folder\\lib\\site-packages (from flask) (8.1.7)\n",
      "Requirement already satisfied: blinker>=1.6.2 in d:\\setup\\new folder\\lib\\site-packages (from flask) (1.6.2)\n",
      "Requirement already satisfied: colorama in d:\\setup\\new folder\\lib\\site-packages (from click>=8.1.3->flask) (0.4.6)\n",
      "Requirement already satisfied: MarkupSafe>=2.0 in d:\\setup\\new folder\\lib\\site-packages (from Jinja2>=3.1.2->flask) (2.1.3)\n"
     ]
    }
   ],
   "source": [
    "!pip install flask"
   ]
  },
  {
   "cell_type": "code",
   "execution_count": 2,
   "id": "c9463f47-acc2-4110-87e4-df368db90b06",
   "metadata": {},
   "outputs": [
    {
     "name": "stdout",
     "output_type": "stream",
     "text": [
      "Connected to lost_found_db successfully!\n"
     ]
    }
   ],
   "source": [
    "from flask import Flask, request, jsonify\n",
    "from flask_cors import CORS\n",
    "import mysql.connector\n",
    "import jwt, datetime\n",
    "from werkzeug.security import generate_password_hash, check_password_hash\n",
    "\n",
    "app = Flask(__name__)\n",
    "CORS(app)\n",
    "app.config['SECRET_KEY'] = 'your-secret-key'\n",
    "\n",
    "# Database connection\n",
    "def get_connection():\n",
    "    return mysql.connector.connect(\n",
    "        host=\"localhost\",\n",
    "        port=3308,\n",
    "        user=\"root\",\n",
    "        password=\"\",\n",
    "        database=\"lost_found_db\"\n",
    "    )\n",
    "\n",
    "# Test connection\n",
    "try:\n",
    "    conn = get_connection()\n",
    "    print(\"Connected to lost_found_db successfully!\")\n",
    "    conn.close()\n",
    "except Exception as e:\n",
    "    print(\"Connection failed:\", e)\n"
   ]
  },
  {
   "cell_type": "code",
   "execution_count": 3,
   "id": "0f50508a-4dbc-4d69-bc0b-28e310bc3da6",
   "metadata": {},
   "outputs": [],
   "source": [
    "# Register Route\n",
    "@app.route('/api/register', methods=['POST'])\n",
    "def register():\n",
    "    data = request.get_json()\n",
    "    name = data.get('name')\n",
    "    email = data.get('email')\n",
    "    phone = data.get('phone')\n",
    "    password = data.get('password')\n",
    "    role = 'seeker'  # Set role here\n",
    "\n",
    "    try:\n",
    "        conn = get_connection()\n",
    "        cursor = conn.cursor()\n",
    "        cursor.execute(\n",
    "            \"INSERT INTO users (name, email, phone_number, password, role) VALUES (%s, %s, %s, %s, %s)\",\n",
    "            (name, email, phone, password, role)\n",
    "        )\n",
    "        conn.commit()\n",
    "        return jsonify({'message': 'User registered successfully'}), 201\n",
    "    except mysql.connector.Error as err:\n",
    "        return jsonify({'error': str(err)}), 400\n",
    "    finally:\n",
    "        cursor.close()\n",
    "        conn.close()\n"
   ]
  },
  {
   "cell_type": "code",
   "execution_count": 4,
   "id": "57566c86-c397-45c4-a7c9-cd194cfca5f2",
   "metadata": {},
   "outputs": [],
   "source": [
    "@app.route('/api/login', methods=['POST'])\n",
    "def login():\n",
    "    data = request.get_json()\n",
    "    email = data.get('email')\n",
    "    password = data.get('password')\n",
    "\n",
    "    conn = get_connection()\n",
    "    cursor = conn.cursor(dictionary=True)\n",
    "    try:\n",
    "        cursor.execute(\"SELECT * FROM users WHERE email = %s AND password = %s\", (email, password))\n",
    "        user = cursor.fetchone()\n",
    "\n",
    "        if user:\n",
    "            # 🔐 Generate token\n",
    "            token = jwt.encode({\n",
    "                'user_id': user['id'],\n",
    "                'role': user['role'],\n",
    "                'exp': datetime.datetime.utcnow() + datetime.timedelta(hours=1)\n",
    "            }, 'your_secret_key', algorithm='HS256')\n",
    "\n",
    "            # ✅ Return user info and token\n",
    "            return jsonify({\n",
    "                'message': 'Login successful',\n",
    "                'user': {\n",
    "                    'id': user['id'],\n",
    "                    'email': user['email'],\n",
    "                    'role': user['role'],\n",
    "                    'name': user['name']\n",
    "                },\n",
    "                'token': token\n",
    "            })\n",
    "        else:\n",
    "            return jsonify({'message': 'Invalid email or password'}), 401\n",
    "    finally:\n",
    "        cursor.close()\n",
    "        conn.close()"
   ]
  },
  {
   "cell_type": "code",
   "execution_count": null,
   "id": "60c1a25b-0ae4-4a93-87e7-b398e95adddc",
   "metadata": {},
   "outputs": [
    {
     "name": "stdout",
     "output_type": "stream",
     "text": [
      " * Serving Flask app '__main__'\n",
      " * Debug mode: off\n"
     ]
    },
    {
     "name": "stderr",
     "output_type": "stream",
     "text": [
      "WARNING: This is a development server. Do not use it in a production deployment. Use a production WSGI server instead.\n",
      " * Running on http://127.0.0.1:5000\n",
      "Press CTRL+C to quit\n",
      "127.0.0.1 - - [02/Aug/2025 22:40:46] \"GET /api/search?query=jhjj HTTP/1.1\" 404 -\n",
      "127.0.0.1 - - [02/Aug/2025 22:44:59] \"GET /api/search?query=A%20K%20Perera HTTP/1.1\" 404 -\n",
      "127.0.0.1 - - [02/Aug/2025 22:53:21] \"GET /api/search?query=U%20P%20Silva HTTP/1.1\" 404 -\n"
     ]
    }
   ],
   "source": [
    "if __name__ == '__main__':\n",
    "    app.run(port=5000)"
   ]
  }
 ],
 "metadata": {
  "kernelspec": {
   "display_name": "Python [conda env:base] *",
   "language": "python",
   "name": "conda-base-py"
  },
  "language_info": {
   "codemirror_mode": {
    "name": "ipython",
    "version": 3
   },
   "file_extension": ".py",
   "mimetype": "text/x-python",
   "name": "python",
   "nbconvert_exporter": "python",
   "pygments_lexer": "ipython3",
   "version": "3.12.7"
  }
 },
 "nbformat": 4,
 "nbformat_minor": 5
}
