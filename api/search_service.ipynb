{
 "cells": [
  {
   "cell_type": "code",
   "execution_count": 1,
   "id": "b0c7f7c7-334b-4a85-8c99-a6974b3ad093",
   "metadata": {},
   "outputs": [
    {
     "name": "stdout",
     "output_type": "stream",
     "text": [
      "Connected to lost_found_db successfully!\n"
     ]
    }
   ],
   "source": [
    "from flask import Flask, request, jsonify\n",
    "from flask_cors import CORS\n",
    "import os\n",
    "from werkzeug.utils import secure_filename\n",
    "import mysql.connector\n",
    "\n",
    "app = Flask(__name__)\n",
    "CORS(app)\n",
    "\n",
    "# Database connection\n",
    "def get_connection():\n",
    "    return mysql.connector.connect(\n",
    "        host=\"localhost\",\n",
    "        port=3308,\n",
    "        user=\"root\",\n",
    "        password=\"\",\n",
    "        database=\"lost_found_db\"\n",
    "    )\n",
    "\n",
    "# Test connection\n",
    "try:\n",
    "    conn = get_connection()\n",
    "    print(\"Connected to lost_found_db successfully!\")\n",
    "    conn.close()\n",
    "except Exception as e:\n",
    "    print(\"Connection failed:\", e)\n"
   ]
  },
  {
   "cell_type": "code",
   "execution_count": 2,
   "id": "73add60e-ef24-4321-b1d8-01fde1e2798b",
   "metadata": {},
   "outputs": [],
   "source": [
    "@app.route('/api/search', methods=['GET'])\n",
    "def search_documents():\n",
    "    query = request.args.get('query')\n",
    "    if not query:\n",
    "        return jsonify({'success': False, 'message': 'Query parameter is required'}), 400\n",
    "\n",
    "    try:\n",
    "        connection = get_connection()\n",
    "        cursor = connection.cursor(dictionary=True)\n",
    "        cursor.execute(\"SELECT * FROM found_documents WHERE doc_name LIKE %s\", ('%' + query + '%',))\n",
    "        results = cursor.fetchall()\n",
    "        cursor.close()\n",
    "        connection.close()\n",
    "\n",
    "        return jsonify({'success': True, 'data': results})\n",
    "\n",
    "    except Exception as e:\n",
    "        return jsonify({'success': False, 'error': str(e)}), 500\n"
   ]
  },
  {
   "cell_type": "code",
   "execution_count": null,
   "id": "76c9d90b-0a69-4056-b7e1-0a1822fc49ef",
   "metadata": {},
   "outputs": [
    {
     "name": "stdout",
     "output_type": "stream",
     "text": [
      " * Serving Flask app '__main__'\n",
      " * Debug mode: off\n"
     ]
    },
    {
     "name": "stderr",
     "output_type": "stream",
     "text": [
      "WARNING: This is a development server. Do not use it in a production deployment. Use a production WSGI server instead.\n",
      " * Running on http://127.0.0.1:5003\n",
      "Press CTRL+C to quit\n",
      "127.0.0.1 - - [02/Aug/2025 22:52:38] \"GET /api/search?query=Silva HTTP/1.1\" 200 -\n",
      "127.0.0.1 - - [02/Aug/2025 22:55:50] \"GET /api/search?query=U%20P%20Silva HTTP/1.1\" 200 -\n",
      "127.0.0.1 - - [02/Aug/2025 23:21:18] \"GET /api/search?query=U%20P%20Silva HTTP/1.1\" 200 -\n",
      "127.0.0.1 - - [02/Aug/2025 23:26:44] \"GET /api/search?query=A%20K%20Perera HTTP/1.1\" 200 -\n",
      "127.0.0.1 - - [02/Aug/2025 23:27:30] \"GET /api/search?query=A%20K%20Perera HTTP/1.1\" 200 -\n",
      "127.0.0.1 - - [02/Aug/2025 23:36:24] \"GET /api/search?query=A%20K%20Perera HTTP/1.1\" 200 -\n",
      "127.0.0.1 - - [02/Aug/2025 23:36:45] \"GET /api/search?query=A%20K%20Perera HTTP/1.1\" 200 -\n",
      "127.0.0.1 - - [02/Aug/2025 23:36:54] \"GET /api/search?query=U%20P%20Silva HTTP/1.1\" 200 -\n",
      "127.0.0.1 - - [02/Aug/2025 23:37:13] \"GET /api/search?query=Silva HTTP/1.1\" 200 -\n",
      "127.0.0.1 - - [02/Aug/2025 23:38:14] \"GET /api/search?query=Perera HTTP/1.1\" 200 -\n",
      "127.0.0.1 - - [02/Aug/2025 23:39:36] \"GET /api/search?query=Sliva HTTP/1.1\" 200 -\n",
      "127.0.0.1 - - [02/Aug/2025 23:39:57] \"GET /api/search?query=U%20P%20Sliva HTTP/1.1\" 200 -\n",
      "127.0.0.1 - - [02/Aug/2025 23:39:57] \"GET /api/search?query=U%20P%20Sliva HTTP/1.1\" 200 -\n",
      "127.0.0.1 - - [02/Aug/2025 23:39:58] \"GET /api/search?query=U%20P%20Sliva HTTP/1.1\" 200 -\n",
      "127.0.0.1 - - [02/Aug/2025 23:41:07] \"GET /api/search?query=U%20P%20Silva HTTP/1.1\" 200 -\n",
      "127.0.0.1 - - [02/Aug/2025 23:43:52] \"GET /api/search?query=Silva HTTP/1.1\" 200 -\n",
      "127.0.0.1 - - [02/Aug/2025 23:44:06] \"GET /api/search?query=perera HTTP/1.1\" 200 -\n",
      "127.0.0.1 - - [03/Aug/2025 00:19:09] \"GET /api/search?query=perera HTTP/1.1\" 200 -\n",
      "127.0.0.1 - - [03/Aug/2025 00:21:18] \"GET /api/search?query=perera HTTP/1.1\" 200 -\n",
      "127.0.0.1 - - [03/Aug/2025 00:22:32] \"GET /api/search?query=perera HTTP/1.1\" 200 -\n",
      "127.0.0.1 - - [03/Aug/2025 00:22:49] \"GET /api/search?query=silva HTTP/1.1\" 200 -\n",
      "127.0.0.1 - - [03/Aug/2025 00:25:48] \"GET /api/search?query=silva HTTP/1.1\" 200 -\n",
      "127.0.0.1 - - [03/Aug/2025 00:27:36] \"GET /api/search?query=silva HTTP/1.1\" 200 -\n",
      "127.0.0.1 - - [03/Aug/2025 00:31:43] \"GET /api/search?query=silva HTTP/1.1\" 200 -\n",
      "127.0.0.1 - - [03/Aug/2025 00:35:44] \"GET /api/search?query=silva HTTP/1.1\" 200 -\n",
      "127.0.0.1 - - [03/Aug/2025 00:37:48] \"GET /api/search?query=silva HTTP/1.1\" 200 -\n",
      "127.0.0.1 - - [03/Aug/2025 00:38:17] \"GET /api/search?query=silva HTTP/1.1\" 200 -\n",
      "127.0.0.1 - - [03/Aug/2025 00:38:39] \"GET /api/search?query=silva HTTP/1.1\" 200 -\n",
      "127.0.0.1 - - [03/Aug/2025 00:39:08] \"GET /api/search?query=silva HTTP/1.1\" 200 -\n",
      "127.0.0.1 - - [03/Aug/2025 01:09:13] \"GET /api/search?query=sliva HTTP/1.1\" 200 -\n",
      "127.0.0.1 - - [03/Aug/2025 01:09:22] \"GET /api/search?query=Silva HTTP/1.1\" 200 -\n",
      "127.0.0.1 - - [03/Aug/2025 01:09:54] \"GET /api/search?query=Perera HTTP/1.1\" 200 -\n",
      "127.0.0.1 - - [03/Aug/2025 01:11:14] \"GET /api/search?query=Silva HTTP/1.1\" 200 -\n",
      "127.0.0.1 - - [03/Aug/2025 01:15:21] \"GET /api/search?query=Silva HTTP/1.1\" 200 -\n",
      "127.0.0.1 - - [03/Aug/2025 01:15:48] \"GET /api/search?query=Perera HTTP/1.1\" 200 -\n"
     ]
    }
   ],
   "source": [
    "if __name__ == '__main__':\n",
    "    app.run(port=5003)"
   ]
  }
 ],
 "metadata": {
  "kernelspec": {
   "display_name": "Python [conda env:base] *",
   "language": "python",
   "name": "conda-base-py"
  },
  "language_info": {
   "codemirror_mode": {
    "name": "ipython",
    "version": 3
   },
   "file_extension": ".py",
   "mimetype": "text/x-python",
   "name": "python",
   "nbconvert_exporter": "python",
   "pygments_lexer": "ipython3",
   "version": "3.12.7"
  }
 },
 "nbformat": 4,
 "nbformat_minor": 5
}
